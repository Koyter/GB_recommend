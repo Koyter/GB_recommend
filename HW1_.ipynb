{
  "nbformat": 4,
  "nbformat_minor": 0,
  "metadata": {
    "colab": {
      "name": "HW1_.ipynb",
      "provenance": [],
      "collapsed_sections": [],
      "authorship_tag": "ABX9TyNucig8uWzManwhxa6cOPXW",
      "include_colab_link": true
    },
    "kernelspec": {
      "name": "python3",
      "display_name": "Python 3"
    },
    "language_info": {
      "name": "python"
    }
  },
  "cells": [
    {
      "cell_type": "markdown",
      "metadata": {
        "id": "view-in-github",
        "colab_type": "text"
      },
      "source": [
        "<a href=\"https://colab.research.google.com/github/Koyter/GB_recommend/blob/main/HW1_.ipynb\" target=\"_parent\"><img src=\"https://colab.research.google.com/assets/colab-badge.svg\" alt=\"Open In Colab\"/></a>"
      ]
    },
    {
      "cell_type": "markdown",
      "source": [
        "**1) Приведите еще примеры метрик для оценки рекомендаций/ранжирования (можно взять из интернета, или ваши знания)**\n",
        "\n",
        "**2) Доделать все функции, где стоит комментарий \"сделать дома\"**"
      ],
      "metadata": {
        "id": "x9av4BF544mM"
      }
    },
    {
      "cell_type": "code",
      "execution_count": 1,
      "metadata": {
        "id": "-jQ3cJ6p2pQv"
      },
      "outputs": [],
      "source": [
        "import pandas as pd\n",
        "import numpy as np"
      ]
    },
    {
      "cell_type": "markdown",
      "source": [
        "### 1. Hit rate"
      ],
      "metadata": {
        "id": "NgYs3rtJ4__z"
      }
    },
    {
      "cell_type": "code",
      "source": [
        "def hit_rate(recommended_list, bought_list):\n",
        "    bought_list = np.array(bought_list)\n",
        "    recommended_list = np.array(recommended_list)\n",
        "    \n",
        "    flags = np.isin(bought_list, recommended_list)\n",
        "    return (flags.sum() > 0) * 1"
      ],
      "metadata": {
        "id": "cymFAWnT48br"
      },
      "execution_count": 2,
      "outputs": []
    },
    {
      "cell_type": "code",
      "source": [
        "def hit_rate_at_k(recommended_list, bought_list, k=5):\n",
        "  return hit_rate(recommended_list[:k], bought_list)"
      ],
      "metadata": {
        "id": "iDWXJ3075B_c"
      },
      "execution_count": 6,
      "outputs": []
    },
    {
      "cell_type": "code",
      "source": [
        "recommended_list = [143,156, 1134, 27, 1543, 3345, 533, 11, 43]\n",
        "bought_list = [521, 32, 143, 991]"
      ],
      "metadata": {
        "id": "RdOsH5mB5DgR"
      },
      "execution_count": 8,
      "outputs": []
    },
    {
      "cell_type": "code",
      "source": [
        "hit_rate(recommended_list, bought_list)"
      ],
      "metadata": {
        "colab": {
          "base_uri": "https://localhost:8080/"
        },
        "id": "meaNY5YQ5HdR",
        "outputId": "4de06d8e-8fa5-48f4-bb5e-52e2981a5de6"
      },
      "execution_count": 5,
      "outputs": [
        {
          "output_type": "execute_result",
          "data": {
            "text/plain": [
              "1"
            ]
          },
          "metadata": {},
          "execution_count": 5
        }
      ]
    },
    {
      "cell_type": "code",
      "source": [
        "hit_rate_at_k(recommended_list, bought_list)"
      ],
      "metadata": {
        "colab": {
          "base_uri": "https://localhost:8080/"
        },
        "id": "yjV5WCRU5Ipa",
        "outputId": "8a44efda-f588-49c4-c872-df6f7dc8f6a0"
      },
      "execution_count": 7,
      "outputs": [
        {
          "output_type": "execute_result",
          "data": {
            "text/plain": [
              "1"
            ]
          },
          "metadata": {},
          "execution_count": 7
        }
      ]
    },
    {
      "cell_type": "markdown",
      "source": [
        "### 2. Precision"
      ],
      "metadata": {
        "id": "Mlu86HA85VMQ"
      }
    },
    {
      "cell_type": "code",
      "source": [
        "recommended_list = [1,3,8,6,9,2,5,10] #id товаров\n",
        "bought_list = [1,5,6]"
      ],
      "metadata": {
        "id": "lWMzWv9l5RMG"
      },
      "execution_count": 16,
      "outputs": []
    },
    {
      "cell_type": "code",
      "source": [
        "def precision(recommended_list, bought_list):\n",
        "    \n",
        "    bought_list = np.array(bought_list)\n",
        "    recommended_list = np.array(recommended_list)\n",
        "    \n",
        "    flags = np.isin(bought_list, recommended_list)\n",
        "    return flags.sum() / len(recommended_list)"
      ],
      "metadata": {
        "id": "bm-rxCDN5bWw"
      },
      "execution_count": 10,
      "outputs": []
    },
    {
      "cell_type": "code",
      "source": [
        "def precision_at_k(recommended_list, bought_list, k=5):\n",
        "    return precision(recommended_list[:k], bought_list)"
      ],
      "metadata": {
        "id": "lx60FK_D5cdO"
      },
      "execution_count": 11,
      "outputs": []
    },
    {
      "cell_type": "code",
      "source": [
        "def money_precision_at_k(recommended_list, bought_list, prices_recommended, k=5):\n",
        "    \n",
        "    recommend_list = np.array(recommended_list)[:k]\n",
        "    prices_recommended = np.array(prices_recommended)[:k]\n",
        "    \n",
        "    flags = np.isin(recommend_list, bought_list)\n",
        "    \n",
        "    precision = np.dot(flags, prices_recommended).sum() / prices_recommended.sum()\n",
        "    \n",
        "    return precision"
      ],
      "metadata": {
        "id": "ktjpBnWX5jKR"
      },
      "execution_count": 12,
      "outputs": []
    },
    {
      "cell_type": "code",
      "source": [
        "precision(recommended_list, bought_list)"
      ],
      "metadata": {
        "colab": {
          "base_uri": "https://localhost:8080/"
        },
        "id": "xbG6xSR15lZL",
        "outputId": "6424a34d-db5b-49d5-85b9-c8f3f6eb00e9"
      },
      "execution_count": 17,
      "outputs": [
        {
          "output_type": "execute_result",
          "data": {
            "text/plain": [
              "0.375"
            ]
          },
          "metadata": {},
          "execution_count": 17
        }
      ]
    },
    {
      "cell_type": "code",
      "source": [
        "precision_at_k(recommended_list, bought_list, k=3)"
      ],
      "metadata": {
        "colab": {
          "base_uri": "https://localhost:8080/"
        },
        "id": "jLzomazt5nIB",
        "outputId": "e3ef11fa-f5aa-4e17-e48e-e36e31db6207"
      },
      "execution_count": 18,
      "outputs": [
        {
          "output_type": "execute_result",
          "data": {
            "text/plain": [
              "0.3333333333333333"
            ]
          },
          "metadata": {},
          "execution_count": 18
        }
      ]
    },
    {
      "cell_type": "code",
      "source": [
        "prices = [100, 200, 300, 400, 500, 600, 700, 800]\n",
        "money_precision_at_k(recommended_list, bought_list, prices)"
      ],
      "metadata": {
        "colab": {
          "base_uri": "https://localhost:8080/"
        },
        "id": "DcPkucqH5oMi",
        "outputId": "b8b59bb4-d75e-409f-fa75-36ff93e60cf0"
      },
      "execution_count": 30,
      "outputs": [
        {
          "output_type": "execute_result",
          "data": {
            "text/plain": [
              "0.3333333333333333"
            ]
          },
          "metadata": {},
          "execution_count": 30
        }
      ]
    },
    {
      "cell_type": "markdown",
      "source": [
        "### 3. Recall"
      ],
      "metadata": {
        "id": "0yYU3EzF5zUp"
      }
    },
    {
      "cell_type": "code",
      "source": [
        "def recall(recommended_list, bought_list):\n",
        "    \n",
        "    bought_list = np.array(bought_list)\n",
        "    recommended_list = np.array(recommended_list)\n",
        "    \n",
        "    flags = np.isin(bought_list, recommended_list)\n",
        "    return flags.sum() / len(bought_list)\n",
        "    \n",
        "\n",
        "def recall_at_k(recommended_list, bought_list, k=5):\n",
        "  return recall(recommended_list[:k], bought_list)\n",
        "\n",
        "\n",
        "def money_recall_at_k(recommended_list, bought_list, prices_recommended, prices_bought, k=5):\n",
        "    recommend_list = np.array(recommended_list)[:k]\n",
        "    prices_recommended = np.array(prices_recommended)\n",
        "    prices_bought = np.array(prices_bought)\n",
        "\n",
        "    flags = np.isin(recommend_list[:k], bought_list)\n",
        "    recall = np.dot(flags, prices_recommended[:k]).sum() / prices_bought.sum()\n",
        "    \n",
        "    return recall"
      ],
      "metadata": {
        "id": "myziJV8R5pYO"
      },
      "execution_count": 32,
      "outputs": []
    },
    {
      "cell_type": "code",
      "source": [
        "recall(recommended_list, bought_list)"
      ],
      "metadata": {
        "colab": {
          "base_uri": "https://localhost:8080/"
        },
        "id": "yTKIyrTa6Brz",
        "outputId": "4fdfc58c-72f5-40e2-dd8a-1a92ca66724b"
      },
      "execution_count": 21,
      "outputs": [
        {
          "output_type": "execute_result",
          "data": {
            "text/plain": [
              "1.0"
            ]
          },
          "metadata": {},
          "execution_count": 21
        }
      ]
    },
    {
      "cell_type": "code",
      "source": [
        "recall_at_k(recommended_list,bought_list,k=10)"
      ],
      "metadata": {
        "colab": {
          "base_uri": "https://localhost:8080/"
        },
        "id": "i9TOg2NV6DMN",
        "outputId": "72b86b17-ef87-49ec-ad9c-0026141a4e98"
      },
      "execution_count": 22,
      "outputs": [
        {
          "output_type": "execute_result",
          "data": {
            "text/plain": [
              "1.0"
            ]
          },
          "metadata": {},
          "execution_count": 22
        }
      ]
    },
    {
      "cell_type": "code",
      "source": [
        "prices_bought = [200, 300, 400, 500, 600]\n",
        "money_recall_at_k(recommended_list, bought_list, prices, prices_bought, k=5)"
      ],
      "metadata": {
        "colab": {
          "base_uri": "https://localhost:8080/"
        },
        "id": "DsQ6Mf-o6EnJ",
        "outputId": "6916e986-5896-4e75-e469-c3c17719f9f7"
      },
      "execution_count": 34,
      "outputs": [
        {
          "output_type": "execute_result",
          "data": {
            "text/plain": [
              "0.25"
            ]
          },
          "metadata": {},
          "execution_count": 34
        }
      ]
    },
    {
      "cell_type": "markdown",
      "source": [
        "# Метрики ранжирования"
      ],
      "metadata": {
        "id": "NXaasA3r77yp"
      }
    },
    {
      "cell_type": "markdown",
      "source": [
        "## AP@k"
      ],
      "metadata": {
        "id": "z5WOYR7Z7-BI"
      }
    },
    {
      "cell_type": "code",
      "source": [
        "recommended_list = [22, 21, 4, 1, 234, 232432,234234,666] #id товаров\n",
        "bought_list = [1, 221, 3, 4,]"
      ],
      "metadata": {
        "id": "5QxS5K_p6-He"
      },
      "execution_count": 35,
      "outputs": []
    },
    {
      "cell_type": "code",
      "source": [
        "def ap_k(recommended_list, bought_list, k=5):\n",
        "    \n",
        "    bought_list = np.array(bought_list)\n",
        "    recommended_list = np.array(recommended_list)[:k]\n",
        "    \n",
        "    relevant_indexes = np.nonzero(np.isin(recommended_list, bought_list))[0]\n",
        "    if len(relevant_indexes) == 0:\n",
        "        return 0\n",
        "    \n",
        "    amount_relevant = len(relevant_indexes)\n",
        "            \n",
        "    sum_ = sum([precision_at_k(recommended_list, bought_list, k=index_relevant+1) for index_relevant in relevant_indexes])\n",
        "    return sum_/amount_relevant"
      ],
      "metadata": {
        "id": "cngh76qA8Cab"
      },
      "execution_count": 36,
      "outputs": []
    },
    {
      "cell_type": "code",
      "source": [
        "ap_k(recommended_list, bought_list, k=5)"
      ],
      "metadata": {
        "colab": {
          "base_uri": "https://localhost:8080/"
        },
        "id": "U-eIDNAU8D56",
        "outputId": "b6d20f66-e5bd-42b6-bea4-5611c50cdef7"
      },
      "execution_count": 37,
      "outputs": [
        {
          "output_type": "execute_result",
          "data": {
            "text/plain": [
              "0.41666666666666663"
            ]
          },
          "metadata": {},
          "execution_count": 37
        }
      ]
    },
    {
      "cell_type": "markdown",
      "source": [
        "### MAP@k"
      ],
      "metadata": {
        "id": "CnR5M6jY8F4A"
      }
    },
    {
      "cell_type": "code",
      "source": [
        "recommended_list_3_users = [[143, 156, 1134, 991, 27, 1543, 3345, 533, 11, 43], \n",
        "                    [1134, 533, 14, 4, 15, 1543, 1, 99, 27, 3345],\n",
        "                    [991, 3345, 27, 533, 43, 143, 1543, 156, 1134, 11]\n",
        "                    ]\n",
        "\n",
        "bought_list_3_users = [[521, 32, 143],  # юзер 1\n",
        "                       [143, 156, 991, 43, 11], # юзер 2\n",
        "                       [1,2]] # юзер 3"
      ],
      "metadata": {
        "id": "V2bHwG9b8FK-"
      },
      "execution_count": 38,
      "outputs": []
    },
    {
      "cell_type": "code",
      "source": [
        "def map_k(recommended_list, bought_list, k=5):\n",
        "\n",
        "    result = [ap_k(recommended_list[i], bought_list[i], k) for i in range(len(bought_list))]\n",
        "    \n",
        "    return sum(result) / len(result)"
      ],
      "metadata": {
        "id": "4a6-4eTD8I9X"
      },
      "execution_count": 42,
      "outputs": []
    },
    {
      "cell_type": "code",
      "source": [
        "map_k(recommended_list_3_users, bought_list_3_users)"
      ],
      "metadata": {
        "colab": {
          "base_uri": "https://localhost:8080/"
        },
        "id": "TbGmu0rb8KOs",
        "outputId": "3c935435-5535-4c99-a4ce-fbe6c4aa6e6c"
      },
      "execution_count": 43,
      "outputs": [
        {
          "output_type": "execute_result",
          "data": {
            "text/plain": [
              "0.3333333333333333"
            ]
          },
          "metadata": {},
          "execution_count": 43
        }
      ]
    },
    {
      "cell_type": "markdown",
      "source": [
        "### Mean Reciprocal Rank ( MRR@k )"
      ],
      "metadata": {
        "id": "jf1NZRPyARRb"
      }
    },
    {
      "cell_type": "markdown",
      "source": [
        "- Считаем для первых k рекоммендаций\n",
        "- Найти ранк первого релевантного предсказания $k_u$\n",
        "- Посчитать reciprocal rank = $\\frac{1}{k_u}$\n",
        "\n",
        "$$MRR = mean(\\frac{1}{k_u})$$"
      ],
      "metadata": {
        "id": "r74tNfNNBEo7"
      }
    },
    {
      "cell_type": "code",
      "source": [
        "def mrr_rank(recommended_list, bought_list, k=1):\n",
        "    bought_list = np.array(bought_list)\n",
        "    recommended_list = np.array(recommended_list)\n",
        "    \n",
        "    relevant_indexes = np.nonzero(np.isin(recommended_list, bought_list))[0]\n",
        "    if len(relevant_indexes) == 0:\n",
        "        return 0\n",
        "    return 1 / (relevant_indexes[0] + 1)\n",
        "\n",
        "def reciprocal_rank(recommended_list, bought_list, k=1):\n",
        "    result = [mrr_rank(recommended_list[i], bought_list[i], k) for i in range(k)]\n",
        "    result = np.array(result)\n",
        "\n",
        "    return result.mean()"
      ],
      "metadata": {
        "id": "ryfK3qo69uUf"
      },
      "execution_count": 57,
      "outputs": []
    },
    {
      "cell_type": "code",
      "source": [
        "reciprocal_rank(recommended_list_3_users, bought_list_3_users, k=3)"
      ],
      "metadata": {
        "colab": {
          "base_uri": "https://localhost:8080/"
        },
        "id": "TJJ8J1EWBIm-",
        "outputId": "3c76c25c-b80a-475d-a0a4-c303b1d1c789"
      },
      "execution_count": 58,
      "outputs": [
        {
          "output_type": "execute_result",
          "data": {
            "text/plain": [
              "0.3333333333333333"
            ]
          },
          "metadata": {},
          "execution_count": 58
        }
      ]
    },
    {
      "cell_type": "markdown",
      "source": [
        "Приведите еще примеры метрик для оценки рекомендаций/ранжирования (можно взять из интернета, или ваши знания)\n",
        "\n",
        "\n",
        "\n",
        "1.   Cumulative Gain at K\n",
        "2.   Ранговый коэффициент корреляции Кендэлла\n",
        "3.   Ранговый коэффициент корреляции Спирмена\n",
        "4.   Expected reciprocal rank (ERR)\n",
        "5.   PFound\n",
        "\n"
      ],
      "metadata": {
        "id": "4BxUBg1kDeUX"
      }
    }
  ]
}